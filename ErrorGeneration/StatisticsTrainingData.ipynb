{
 "cells": [
  {
   "cell_type": "code",
   "execution_count": null,
   "metadata": {
    "vscode": {
     "languageId": "plaintext"
    }
   },
   "outputs": [],
   "source": [
    "import ast\n",
    "\n",
    "# Function to process Label_tag and calculate error rate per data point\n",
    "def calculate_error_metrics(data):\n",
    "    error_rates = []\n",
    "    array_lengths = []\n",
    "    \n",
    "    for label in data['Label_tag']:\n",
    "        # Convert string representation of list to actual list\n",
    "        label_list = ast.literal_eval(label)\n",
    "        error_count = sum(label_list)\n",
    "        total_count = len(label_list)\n",
    "        \n",
    "        # Calculate error rate for this entry\n",
    "        error_rate = error_count / total_count if total_count > 0 else 0\n",
    "        \n",
    "        error_rates.append(error_rate)\n",
    "        array_lengths.append(total_count)\n",
    "    \n",
    "    # Calculate average error rate and average array length\n",
    "    avg_error_rate = sum(error_rates) / len(error_rates) if error_rates else 0\n",
    "    avg_array_length = sum(array_lengths) / len(array_lengths) if array_lengths else 0\n",
    "    \n",
    "    return avg_error_rate, avg_array_length\n",
    "\n",
    "# Calculate the metrics\n",
    "average_error_rate, average_array_length = calculate_error_metrics(data)\n",
    "\n",
    "average_error_rate, average_array_length\n"
   ]
  }
 ],
 "metadata": {
  "language_info": {
   "name": "python"
  }
 },
 "nbformat": 4,
 "nbformat_minor": 2
}
